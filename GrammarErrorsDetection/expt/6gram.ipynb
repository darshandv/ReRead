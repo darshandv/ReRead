{
 "cells": [
  {
   "cell_type": "code",
   "execution_count": 4,
   "metadata": {},
   "outputs": [
    {
     "data": {
      "text/plain": [
       "<torch._C.Generator at 0x7fc47a46b6b0>"
      ]
     },
     "execution_count": 4,
     "metadata": {},
     "output_type": "execute_result"
    }
   ],
   "source": [
    "import pandas as pd\n",
    "\n",
    "import torch\n",
    "import torch.nn as nn\n",
    "import torch.nn.functional as F\n",
    "import torch.optim as optim\n",
    "\n",
    "torch.manual_seed(1)"
   ]
  },
  {
   "cell_type": "code",
   "execution_count": 5,
   "metadata": {},
   "outputs": [],
   "source": [
    "df = pd.read_csv('train.txt', sep=\" \")\n",
    "# no-need for the third column\n",
    "df = df['POS-Tag']"
   ]
  },
  {
   "cell_type": "code",
   "execution_count": 6,
   "metadata": {},
   "outputs": [],
   "source": [
    "CONTEXT_SIZE = 6\n",
    "EMBEDDING_DIM = 10\n",
    "# preparing the training data\n",
    "trigrams = [([df[i], df[i + 1], df[i + 2], df[i + 3], df[i + 4], df[i + 5]], df[i + 6])\n",
    "            for i in range(len(df) - 6)]\n",
    "vocab = set(df) # this contains special characters also\n",
    "word_to_ix = {word: i for i, word in enumerate(vocab)}\n"
   ]
  },
  {
   "cell_type": "code",
   "execution_count": 7,
   "metadata": {},
   "outputs": [],
   "source": [
    "# architecture of the NN\n",
    "\n",
    "class NGramLanguageModeler(nn.Module):\n",
    "\n",
    "    def __init__(self, vocab_size, embedding_dim, context_size):\n",
    "        super(NGramLanguageModeler, self).__init__()\n",
    "        self.embeddings = nn.Embedding(vocab_size, embedding_dim)\n",
    "        self.linear1 = nn.Linear(context_size * embedding_dim, 128)\n",
    "        self.linear2 = nn.Linear(128, vocab_size)\n",
    "\n",
    "    def forward(self, inputs):\n",
    "        embeds = self.embeddings(inputs).view((1, -1))\n",
    "        out = F.relu(self.linear1(embeds))\n",
    "        out = self.linear2(out)\n",
    "        log_probs = F.log_softmax(out, dim=1)\n",
    "        return log_probs\n",
    "\n"
   ]
  },
  {
   "cell_type": "code",
   "execution_count": 9,
   "metadata": {},
   "outputs": [
    {
     "name": "stdout",
     "output_type": "stream",
     "text": [
      "[521429.8845413625, 479532.32176690875]\n"
     ]
    }
   ],
   "source": [
    "#training\n",
    "\n",
    "\n",
    "losses = []\n",
    "loss_function = nn.NLLLoss()\n",
    "model = NGramLanguageModeler(len(vocab), EMBEDDING_DIM, CONTEXT_SIZE)\n",
    "optimizer = optim.SGD(model.parameters(), lr=0.001)\n",
    "\n",
    "for epoch in range(2):\n",
    "    total_loss = 0\n",
    "    for context, target in trigrams:\n",
    "\n",
    "        # Step 1. Prepare the inputs to be passed to the model (i.e, turn the words\n",
    "        # into integer indices and wrap them in tensors)\n",
    "        context_idxs = torch.tensor([word_to_ix[w] for w in context], dtype=torch.long)\n",
    "\n",
    "        # Step 2. Recall that torch *accumulates* gradients. Before passing in a\n",
    "        # new instance, you need to zero out the gradients from the old\n",
    "        # instance\n",
    "        model.zero_grad()\n",
    "\n",
    "        # Step 3. Run the forward pass, getting log probabilities over next\n",
    "        # words\n",
    "        log_probs = model(context_idxs)\n",
    "\n",
    "        # Step 4. Compute your loss function. (Again, Torch wants the target\n",
    "        # word wrapped in a tensor)\n",
    "        loss = loss_function(log_probs, torch.tensor([word_to_ix[target]], dtype=torch.long))\n",
    "\n",
    "        # Step 5. Do the backward pass and update the gradient\n",
    "        loss.backward()\n",
    "        optimizer.step()\n",
    "\n",
    "        # Get the Python number from a 1-element Tensor by calling tensor.item()\n",
    "        total_loss += loss.item()\n",
    "    losses.append(total_loss)\n",
    "print(losses)  # The loss decreased every iteration over the training data!\n"
   ]
  },
  {
   "cell_type": "code",
   "execution_count": 11,
   "metadata": {},
   "outputs": [],
   "source": [
    "# preparing the data for testing\n",
    "df_test = pd.read_csv('test.txt', sep=\" \")\n",
    "# no-need for the third column\n",
    "df_test = df_test['POS-Tag']\n",
    "\n",
    "# preparing the training data\n",
    "trigrams_test = [([df[i], df[i + 1], df[i + 2], df[i + 3], df[i + 4], df[i + 5]], df[i + 6])\n",
    "            for i in range(len(df) - 6)]\n"
   ]
  },
  {
   "cell_type": "code",
   "execution_count": 14,
   "metadata": {},
   "outputs": [
    {
     "name": "stdout",
     "output_type": "stream",
     "text": [
      "211721\n"
     ]
    }
   ],
   "source": [
    "print(len(trigrams_test))"
   ]
  },
  {
   "cell_type": "code",
   "execution_count": 25,
   "metadata": {},
   "outputs": [
    {
     "name": "stdout",
     "output_type": "stream",
     "text": [
      "completed writing the answers\"\n"
     ]
    }
   ],
   "source": [
    "# testing\n",
    "\n",
    "\n",
    "\n",
    "model = NGramLanguageModeler(len(vocab), EMBEDDING_DIM, CONTEXT_SIZE)\n",
    "\n",
    "# ans.csv file contains whether a word is considered to be correct or not\n",
    "f = open('ans.txt', 'a')\n",
    "\n",
    "for context, target in trigrams_test:\n",
    "\n",
    "    # Step 1. Prepare the inputs to be passed to the model (i.e, turn the words\n",
    "    # into integer indices and wrap them in tensors)\n",
    "    context_idxs = torch.tensor([word_to_ix[w] for w in context], dtype=torch.long)\n",
    "\n",
    "    # Step 2. Recall that torch *accumulates* gradients. Before passing in a\n",
    "    # new instance, you need to zero out the gradients from the old\n",
    "    # instance\n",
    "#         model.zero_grad()\n",
    "\n",
    "    # Step 3. Run the forward pass, getting log probabilities over next\n",
    "    # words\n",
    "    log_probs = model(context_idxs)\n",
    "#     print('Context words: {}, Target = {}'.format(context, target))\n",
    "#     print(log_probs)\n",
    "\n",
    "    # Step 4. Compute your loss function. (Again, Torch wants the target\n",
    "    # word wrapped in a tensor)\n",
    "    loss = loss_function(log_probs, torch.tensor([word_to_ix[target]], dtype=torch.long))\n",
    "#     print('target = {}\\tloss = {}'.format(target, loss))\n",
    "    if loss >= 3.5:\n",
    "        f.write('1\\n')\n",
    "    else:\n",
    "        f.write('0\\n')\n",
    "    f.flush()\n",
    "    \n",
    "f.close()\n",
    "print('completed writing the answers\"')\n",
    "\n",
    "\n"
   ]
  },
  {
   "cell_type": "code",
   "execution_count": null,
   "metadata": {},
   "outputs": [],
   "source": []
  }
 ],
 "metadata": {
  "kernelspec": {
   "display_name": "Python 3",
   "language": "python",
   "name": "python3"
  },
  "language_info": {
   "codemirror_mode": {
    "name": "ipython",
    "version": 3
   },
   "file_extension": ".py",
   "mimetype": "text/x-python",
   "name": "python",
   "nbconvert_exporter": "python",
   "pygments_lexer": "ipython3",
   "version": "3.6.5"
  }
 },
 "nbformat": 4,
 "nbformat_minor": 2
}
